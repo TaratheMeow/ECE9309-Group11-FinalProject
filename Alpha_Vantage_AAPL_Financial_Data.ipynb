{
 "cells": [
  {
   "cell_type": "code",
   "execution_count": null,
   "id": "f4ad3397",
   "metadata": {},
   "outputs": [],
   "source": [
    "\n",
    "import requests\n",
    "import pandas as pd\n",
    "\n",
    "#Your Alpha Vantage API Key\n",
    "api_key = \"KI7ASUWMTSV90BTF\"\n",
    "\n",
    "#Request Apple (AAPL) Income Statement Data\n",
    "url = f\"https://www.alphavantage.co/query?function=INCOME_STATEMENT&symbol=AAPL&apikey={api_key}\"\n",
    "response = requests.get(url)\n",
    "data = response.json()\n",
    "\n",
    "#Convert to Pandas DataFrame\n",
    "income_statement_quarterly = pd.DataFrame(data[\"quarterlyReports\"])  #Quarterly financial report\n",
    "income_statement_quarterly[\"fiscalDateEnding\"] = pd.to_datetime(income_statement_quarterly[\"fiscalDateEnding\"])\n",
    "filtered_data_quarterly = income_statement_quarterly[(income_statement_quarterly[\"fiscalDateEnding\"] >= \"2018-01-01\")]\n",
    "filtered_data_quarterly.to_csv('/filtered_quarterly_data.csv', index=False)"
   ]
  },
  {
   "cell_type": "code",
   "execution_count": null,
   "id": "50e6c220",
   "metadata": {},
   "outputs": [],
   "source": [
    "balance_sheet_url = f\"https://www.alphavantage.co/query?function=BALANCE_SHEET&symbol=AAPL&apikey={api_key}\"\n",
    "balance_response = requests.get(balance_sheet_url)\n",
    "balance_data = balance_response.json()\n",
    "\n",
    "balance_sheet_quarterly = pd.DataFrame(balance_data[\"quarterlyReports\"]) \n",
    "balance_sheet_quarterly[\"fiscalDateEnding\"] = pd.to_datetime(balance_sheet_quarterly[\"fiscalDateEnding\"])\n",
    "filtered_bal_quarterly = balance_sheet_quarterly[(balance_sheet_quarterly[\"fiscalDateEnding\"] >= \"2018-01-01\")]\n",
    "filtered_bal_quarterly.to_csv('/filtered_bal_quarterly.csv', index=False)\n"
   ]
  }
 ],
 "metadata": {
  "language_info": {
   "name": "python"
  }
 },
 "nbformat": 4,
 "nbformat_minor": 5
}
